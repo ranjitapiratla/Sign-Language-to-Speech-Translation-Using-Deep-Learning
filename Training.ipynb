{
 "cells": [
  {
   "cell_type": "code",
   "execution_count": 43,
   "id": "unlikely-notice",
   "metadata": {},
   "outputs": [],
   "source": [
    "import keras\n",
    "from keras.models import Sequential\n",
    "from sklearn.model_selection import train_test_split\n",
    "from keras.layers import Dense, Dropout, Flatten, Conv2D, MaxPooling2D, BatchNormalization\n",
    "from keras.utils.np_utils import to_categorical\n",
    "from keras.utils.vis_utils import plot_model\n",
    "from keras.preprocessing import image\n",
    "import numpy as np\n",
    "import matplotlib.pyplot as plt\n",
    "from matplotlib.image import imread\n",
    "from keras.utils import np_utils\n",
    "import os\n",
    "import cv2\n",
    "import tensorflow as tf"
   ]
  },
  {
   "cell_type": "code",
   "execution_count": 63,
   "id": "stylish-motivation",
   "metadata": {},
   "outputs": [
    {
     "name": "stdout",
     "output_type": "stream",
     "text": [
      "0\n",
      "A\n",
      "B\n",
      "C\n",
      "D\n",
      "E\n",
      "F\n",
      "G\n",
      "H\n",
      "I\n",
      "J\n",
      "K\n",
      "L\n",
      "M\n",
      "N\n",
      "O\n",
      "P\n",
      "Q\n",
      "R\n",
      "S\n",
      "T\n",
      "U\n",
      "V\n",
      "W\n",
      "X\n",
      "Y\n",
      "Z\n"
     ]
    }
   ],
   "source": [
    "#Load Dataset\n",
    "def load_data(path):\n",
    "    files = os.listdir(path)\n",
    "    images = []\n",
    "    labels = []\n",
    "\n",
    "    for f in files:\n",
    "        print(f)\n",
    "        class_number = files.index(f)\n",
    "        pix = os.listdir(path + f)\n",
    "        for person_img in pix:\n",
    "            complete_path = os.path.join(path, f, person_img)\n",
    "            img_array = cv2.imread(complete_path)\n",
    "            img_array = cv2.cvtColor(img_array, cv2.COLOR_BGR2GRAY)\n",
    "            new_array = cv2.resize(img_array, (64, 64))\n",
    "            images.append(new_array)\n",
    "            labels.append(class_number)\n",
    "\n",
    "    data = np.array(images)\n",
    "    data = data/255\n",
    "    data = np.array(data).reshape(-1,64, 64, 1)\n",
    "    labels = np.array(labels)\n",
    "    labels = np_utils.to_categorical(labels)\n",
    "    return data, labels\n",
    "\n",
    "X_train, y_train= load_data(\"Dataset/\") #Pass path of the dataset"
   ]
  },
  {
   "cell_type": "code",
   "execution_count": 64,
   "id": "photographic-status",
   "metadata": {},
   "outputs": [],
   "source": [
    "train_data,test_data,train_label,test_label=train_test_split(X_train,y_train,test_size=0.2)"
   ]
  },
  {
   "cell_type": "code",
   "execution_count": 65,
   "id": "theoretical-catalyst",
   "metadata": {},
   "outputs": [
    {
     "name": "stdout",
     "output_type": "stream",
     "text": [
      "Model: \"sequential_12\"\n",
      "_________________________________________________________________\n",
      "Layer (type)                 Output Shape              Param #   \n",
      "=================================================================\n",
      "conv2d_32 (Conv2D)           (None, 64, 64, 5)         130       \n",
      "_________________________________________________________________\n",
      "max_pooling2d_23 (MaxPooling (None, 16, 16, 5)         0         \n",
      "_________________________________________________________________\n",
      "conv2d_33 (Conv2D)           (None, 16, 16, 15)        1890      \n",
      "_________________________________________________________________\n",
      "max_pooling2d_24 (MaxPooling (None, 4, 4, 15)          0         \n",
      "_________________________________________________________________\n",
      "conv2d_34 (Conv2D)           (None, 4, 4, 25)          9400      \n",
      "_________________________________________________________________\n",
      "max_pooling2d_25 (MaxPooling (None, 1, 1, 25)          0         \n",
      "_________________________________________________________________\n",
      "flatten_11 (Flatten)         (None, 25)                0         \n",
      "_________________________________________________________________\n",
      "dense_20 (Dense)             (None, 27)                702       \n",
      "=================================================================\n",
      "Total params: 12,122\n",
      "Trainable params: 12,122\n",
      "Non-trainable params: 0\n",
      "_________________________________________________________________\n"
     ]
    }
   ],
   "source": [
    "model = Sequential()\n",
    "# First convolutional layer accepts image input\n",
    "model.add(Conv2D(filters=5, kernel_size=5, padding='same', activation='relu', input_shape=(64, 64, 1)))\n",
    "model.add(MaxPooling2D(pool_size=(4,4)))\n",
    "\n",
    "model.add(Conv2D(filters=15, kernel_size=5, padding='same', activation='relu'))\n",
    "model.add(MaxPooling2D(pool_size=(4,4)))\n",
    "\n",
    "model.add(Conv2D(filters=25, kernel_size=5, padding='same', activation='relu'))\n",
    "model.add(MaxPooling2D(pool_size=(4,4)))\n",
    "\n",
    "# Flatten and feed to output layer\n",
    "model.add(Flatten())\n",
    "model.add(Dense(27, activation='softmax'))\n",
    "model.compile(optimizer='rmsprop', loss='categorical_crossentropy', metrics=['accuracy'])\n",
    "\n",
    "# Summarize the model\n",
    "model.summary()"
   ]
  },
  {
   "cell_type": "code",
   "execution_count": 66,
   "id": "liberal-branch",
   "metadata": {},
   "outputs": [
    {
     "name": "stdout",
     "output_type": "stream",
     "text": [
      "Epoch 1/22\n",
      "486/486 [==============================] - 36s 72ms/step - loss: 2.5258 - accuracy: 0.2757 - val_loss: 0.7416 - val_accuracy: 0.7803\n",
      "Epoch 2/22\n",
      "486/486 [==============================] - 39s 81ms/step - loss: 0.6218 - accuracy: 0.8186 - val_loss: 0.3410 - val_accuracy: 0.8922\n",
      "Epoch 3/22\n",
      "486/486 [==============================] - 45s 93ms/step - loss: 0.2750 - accuracy: 0.9128 - val_loss: 0.1964 - val_accuracy: 0.9318\n",
      "Epoch 4/22\n",
      "486/486 [==============================] - 45s 93ms/step - loss: 0.1640 - accuracy: 0.9516 - val_loss: 0.0755 - val_accuracy: 0.9799\n",
      "Epoch 5/22\n",
      "486/486 [==============================] - 43s 89ms/step - loss: 0.1007 - accuracy: 0.9688 - val_loss: 0.0512 - val_accuracy: 0.9851\n",
      "Epoch 6/22\n",
      "486/486 [==============================] - 43s 88ms/step - loss: 0.0660 - accuracy: 0.9803 - val_loss: 0.0656 - val_accuracy: 0.9810\n",
      "Epoch 7/22\n",
      "486/486 [==============================] - 43s 88ms/step - loss: 0.0589 - accuracy: 0.9826 - val_loss: 0.0256 - val_accuracy: 0.9925\n",
      "Epoch 8/22\n",
      "486/486 [==============================] - 43s 88ms/step - loss: 0.0443 - accuracy: 0.9872 - val_loss: 0.0364 - val_accuracy: 0.9889\n",
      "Epoch 9/22\n",
      "486/486 [==============================] - 44s 90ms/step - loss: 0.0377 - accuracy: 0.9878 - val_loss: 0.0143 - val_accuracy: 0.9969\n",
      "Epoch 10/22\n",
      "486/486 [==============================] - 43s 89ms/step - loss: 0.0252 - accuracy: 0.9912 - val_loss: 0.0179 - val_accuracy: 0.9956\n",
      "Epoch 11/22\n",
      "486/486 [==============================] - 43s 88ms/step - loss: 0.0211 - accuracy: 0.9941 - val_loss: 0.0401 - val_accuracy: 0.9877\n",
      "Epoch 12/22\n",
      "486/486 [==============================] - 43s 89ms/step - loss: 0.0164 - accuracy: 0.9954 - val_loss: 0.0194 - val_accuracy: 0.9949\n",
      "Epoch 13/22\n",
      "486/486 [==============================] - 43s 89ms/step - loss: 0.0145 - accuracy: 0.9949 - val_loss: 0.0087 - val_accuracy: 0.9974\n",
      "Epoch 14/22\n",
      "486/486 [==============================] - 43s 89ms/step - loss: 0.0147 - accuracy: 0.9961 - val_loss: 0.0328 - val_accuracy: 0.9869\n",
      "Epoch 15/22\n",
      "486/486 [==============================] - 44s 91ms/step - loss: 0.0181 - accuracy: 0.9936 - val_loss: 0.0151 - val_accuracy: 0.9949\n",
      "Epoch 16/22\n",
      "486/486 [==============================] - 44s 90ms/step - loss: 0.0139 - accuracy: 0.9948 - val_loss: 0.0118 - val_accuracy: 0.9954\n",
      "Epoch 17/22\n",
      "486/486 [==============================] - 45s 92ms/step - loss: 0.0129 - accuracy: 0.9963 - val_loss: 0.0140 - val_accuracy: 0.9967\n",
      "Epoch 18/22\n",
      "486/486 [==============================] - 44s 90ms/step - loss: 0.0124 - accuracy: 0.9967 - val_loss: 0.0056 - val_accuracy: 0.9982\n",
      "Epoch 19/22\n",
      "486/486 [==============================] - 45s 93ms/step - loss: 0.0084 - accuracy: 0.9973 - val_loss: 0.0159 - val_accuracy: 0.9949\n",
      "Epoch 20/22\n",
      "486/486 [==============================] - 45s 92ms/step - loss: 0.0089 - accuracy: 0.9978 - val_loss: 0.0245 - val_accuracy: 0.9915\n",
      "Epoch 21/22\n",
      "486/486 [==============================] - 47s 97ms/step - loss: 0.0094 - accuracy: 0.9974 - val_loss: 0.0312 - val_accuracy: 0.9900\n",
      "Epoch 22/22\n",
      "486/486 [==============================] - 44s 91ms/step - loss: 0.0093 - accuracy: 0.9969 - val_loss: 0.0113 - val_accuracy: 0.9972\n"
     ]
    }
   ],
   "source": [
    "history=model.fit(train_data,train_label,shuffle=True,epochs=22,validation_split=0.2) #20% for validation"
   ]
  },
  {
   "cell_type": "code",
   "execution_count": 67,
   "id": "cosmetic-chassis",
   "metadata": {},
   "outputs": [
    {
     "data": {
      "image/png": "[encoded data removed]",
      "text/plain": [
       "<Figure size 432x288 with 1 Axes>"
      ]
     },
     "metadata": {
      "needs_background": "light"
     },
     "output_type": "display_data"
    },
    {
     "data": {
      "image/png": "[encoded data removed]",
      "text/plain": [
       "<Figure size 432x288 with 1 Axes>"
      ]
     },
     "metadata": {
      "needs_background": "light"
     },
     "output_type": "display_data"
    }
   ],
   "source": [
    "import matplotlib.pyplot as plt\n",
    "plt.figure(1)\n",
    "plt.plot(history.history['loss'])\n",
    "plt.plot(history.history['val_loss'])\n",
    "plt.legend(['training','validation'])\n",
    "plt.title('loss')\n",
    "plt.xlabel('epoch')\n",
    "plt.savefig(\"Loss_graph\")\n",
    "plt.figure(2)\n",
    "plt.plot(history.history['accuracy'])\n",
    "plt.plot(history.history['val_accuracy'])\n",
    "plt.legend(['training','validation'])\n",
    "plt.title('Acurracy')\n",
    "plt.xlabel('epoch')\n",
    "plt.savefig(\"Accuracy_graph\")\n",
    "plt.show()"
   ]
  },
  {
   "cell_type": "code",
   "execution_count": 68,
   "id": "arranged-interaction",
   "metadata": {},
   "outputs": [
    {
     "name": "stdout",
     "output_type": "stream",
     "text": [
      "152/152 [==============================] - 5s 31ms/step - loss: 0.0059 - accuracy: 0.9986\n"
     ]
    }
   ],
   "source": [
    "result=model.evaluate(test_data,test_label)     #for check test score"
   ]
  },
  {
   "cell_type": "code",
   "execution_count": 69,
   "id": "sophisticated-ozone",
   "metadata": {},
   "outputs": [],
   "source": [
    "model.save(\"Model2.h5\")"
   ]
  },
  {
   "cell_type": "code",
   "execution_count": null,
   "id": "surrounded-windows",
   "metadata": {},
   "outputs": [],
   "source": []
  }
 ],
 "metadata": {
  "kernelspec": {
   "display_name": "Python 3",
   "language": "python",
   "name": "python3"
  },
  "language_info": {
   "codemirror_mode": {
    "name": "ipython",
    "version": 3
   },
   "file_extension": ".py",
   "mimetype": "text/x-python",
   "name": "python",
   "nbconvert_exporter": "python",
   "pygments_lexer": "ipython3",
   "version": "3.7.10"
  }
 },
 "nbformat": 4,
 "nbformat_minor": 5
}
