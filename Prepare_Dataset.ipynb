{
 "cells": [
  {
   "cell_type": "code",
   "execution_count": 7,
   "id": "dental-biodiversity",
   "metadata": {},
   "outputs": [],
   "source": [
    "import cv2\n",
    "import numpy as np\n",
    "import os"
   ]
  },
  {
   "cell_type": "code",
   "execution_count": 68,
   "id": "enormous-accused",
   "metadata": {},
   "outputs": [
    {
     "name": "stdout",
     "output_type": "stream",
     "text": [
      "Please enter Sign name: 0\n"
     ]
    }
   ],
   "source": [
    "video = cv2.VideoCapture(0)\n",
    "name=input(\"Please enter Sign name: \")\n",
    "parent_directory=\"Dataset\"\n",
    "path=os.path.join(parent_directory,name)\n",
    "if not os.path.isdir(path):\n",
    "    os.mkdir(path)\n",
    "\n",
    "count=0\n",
    "while True:\n",
    "    ret, frame = video.read()\n",
    "    if ret == True:\n",
    "        count+=1\n",
    "        \n",
    "#         frame=cv2.resize(frame,(700,400))\n",
    "        gray=cv2.cvtColor(frame,cv2.COLOR_BGR2GRAY)     \n",
    "      \n",
    "        _ , thresh =cv2.threshold(gray,10,255,cv2.THRESH_BINARY_INV+cv2.THRESH_OTSU)\n",
    "        contour, hierarchy = cv2.findContours(thresh.copy(), cv2.RETR_EXTERNAL, cv2.CHAIN_APPROX_SIMPLE)\n",
    "      \n",
    "        # Check If hand exist in the frame\n",
    "        if len(contour) == 0:\n",
    "            pass\n",
    "        else:\n",
    "            \n",
    "            hand_segment = max(contour, key=cv2.contourArea)\n",
    "            cv2.drawContours(frame, [hand_segment + (300, 20)], -1, (255, 0, 0),1)\n",
    "            masked = cv2.bitwise_and(frame, frame, mask=thresh)\n",
    "            cv2.putText(frame,str(count),(10,150), cv2.FONT_HERSHEY_SIMPLEX, 2,(255,255,255),2)\n",
    "            save_path=\"Dataset/\"+name+\"/\"+str(count)+\".jpg\"\n",
    "            \n",
    "            cv2.imwrite(save_path,masked)\n",
    "       \n",
    "        cv2.imshow(\"Foreground\", masked)\n",
    "        cv2.imshow(\"original\", frame)\n",
    "        \n",
    "        if cv2.waitKey(60) & 0xff == ord('q'):\n",
    "            break\n",
    "    else:\n",
    "        break\n",
    "cv2.destroyAllWindows()\n",
    "video.release()\n",
    "            "
   ]
  },
  {
   "cell_type": "code",
   "execution_count": null,
   "id": "patent-broad",
   "metadata": {},
   "outputs": [],
   "source": []
  }
 ],
 "metadata": {
  "kernelspec": {
   "display_name": "Python 3",
   "language": "python",
   "name": "python3"
  },
  "language_info": {
   "codemirror_mode": {
    "name": "ipython",
    "version": 3
   },
   "file_extension": ".py",
   "mimetype": "text/x-python",
   "name": "python",
   "nbconvert_exporter": "python",
   "pygments_lexer": "ipython3",
   "version": "3.7.10"
  }
 },
 "nbformat": 4,
 "nbformat_minor": 5
}
