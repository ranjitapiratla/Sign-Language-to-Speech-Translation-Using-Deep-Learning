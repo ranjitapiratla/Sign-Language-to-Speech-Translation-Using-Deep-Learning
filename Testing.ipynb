{
 "cells": [
  {
   "cell_type": "code",
   "execution_count": 44,
   "id": "overall-asbestos",
   "metadata": {},
   "outputs": [],
   "source": [
    "import cv2\n",
    "from keras.models import load_model\n",
    "from keras.preprocessing.image import load_img, img_to_array\n",
    "import numpy as np\n",
    "import tensorflow as tf\n",
    "import keras"
   ]
  },
  {
   "cell_type": "code",
   "execution_count": 45,
   "id": "starting-algebra",
   "metadata": {},
   "outputs": [],
   "source": [
    "labels_dict = {0:'back_ground', \n",
    "                 1:'A', \n",
    "                 2:'B', \n",
    "                 3:'C', \n",
    "                 4:'D', \n",
    "                 5:'E',\n",
    "                 6:'F',\n",
    "                 7:'G',\n",
    "                 8:'H',\n",
    "                 9:'I',\n",
    "                 10:'J',\n",
    "                 11:'K',\n",
    "                 12:'L',\n",
    "                 13:'M',\n",
    "                 14:'N',\n",
    "                 15:'O',\n",
    "                 16:'P',\n",
    "                 17:\"Q\",\n",
    "                 18:'R',\n",
    "                 19:'S',\n",
    "                 20:'T', \n",
    "                 21:'U', \n",
    "                 22:'V',\n",
    "                 23:'W',\n",
    "                 24:'X',\n",
    "                 25:'Y',\n",
    "                 26:'Z'}"
   ]
  },
  {
   "cell_type": "code",
   "execution_count": 46,
   "id": "efficient-curtis",
   "metadata": {},
   "outputs": [],
   "source": [
    "model = keras.models.load_model(\"Model2.h5\")"
   ]
  },
  {
   "cell_type": "code",
   "execution_count": 47,
   "id": "historical-minister",
   "metadata": {},
   "outputs": [],
   "source": [
    "video = cv2.VideoCapture(0)\n",
    "\n",
    "frame_width = int(video.get(3))\n",
    "frame_height = int(video.get(4))\n",
    "   \n",
    "size = (frame_width, frame_height)\n",
    "   \n",
    "#same video on hard drive\n",
    "result_save = cv2.VideoWriter('Demo.avi', \n",
    "                         cv2.VideoWriter_fourcc(*'MJPG'),\n",
    "                         10, size)\n",
    "\n",
    "while True:\n",
    "    ret, frame = video.read()\n",
    "    count=0\n",
    "    if ret == True:\n",
    "        \n",
    "#         frame=cv2.resize(frame,(700,400))\n",
    "        gray=cv2.cvtColor(frame,cv2.COLOR_BGR2GRAY)\n",
    "        count+=1\n",
    "      \n",
    "        _ , thresh =cv2.threshold(gray,10,255,cv2.THRESH_BINARY_INV+cv2.THRESH_OTSU)\n",
    "#         count hands in frame\n",
    "        contour, hierarchy = cv2.findContours(thresh.copy(), cv2.RETR_EXTERNAL, cv2.CHAIN_APPROX_SIMPLE)\n",
    "      \n",
    "        # Check If hand exist in the frame\n",
    "        if len(contour) == 0:\n",
    "            pass\n",
    "        else:\n",
    "            \n",
    "            hand_segment = max(contour, key=cv2.contourArea)\n",
    "            cv2.drawContours(frame, [hand_segment + (300, 20)], -1, (255, 0, 0),1)\n",
    "            masked = cv2.bitwise_and(frame, frame, mask=thresh)\n",
    "            \n",
    "            count=0\n",
    "            gray=cv2.cvtColor(masked,cv2.COLOR_BGR2GRAY)\n",
    "            img_=cv2.resize(gray,(64,64))\n",
    "            img_ = img_.reshape(-1,64 , 64, 1)\n",
    "            \n",
    "            result=model.predict(img_)\n",
    "            result2=np.argmax(result,axis=1)[0]\n",
    "            char=labels_dict[result2]\n",
    "            cv2.putText(frame,char,(10,150), cv2.FONT_HERSHEY_SIMPLEX, 2,(255,255,255),2)\n",
    "       \n",
    "        cv2.imshow(\"Foreground\", masked)\n",
    "        cv2.imshow(\"original\", frame)\n",
    "        result_save.write(frame)\n",
    "        if cv2.waitKey(60) & 0xff == ord('q'):\n",
    "            break\n",
    "    else:\n",
    "        break\n",
    "cv2.destroyAllWindows()\n",
    "video.release()\n",
    "            "
   ]
  },
  {
   "cell_type": "code",
   "execution_count": null,
   "id": "atomic-aside",
   "metadata": {},
   "outputs": [],
   "source": []
  }
 ],
 "metadata": {
  "kernelspec": {
   "display_name": "Python 3",
   "language": "python",
   "name": "python3"
  },
  "language_info": {
   "codemirror_mode": {
    "name": "ipython",
    "version": 3
   },
   "file_extension": ".py",
   "mimetype": "text/x-python",
   "name": "python",
   "nbconvert_exporter": "python",
   "pygments_lexer": "ipython3",
   "version": "3.7.10"
  }
 },
 "nbformat": 4,
 "nbformat_minor": 5
}
